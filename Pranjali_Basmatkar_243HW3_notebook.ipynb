{
  "cells": [
    {
      "cell_type": "markdown",
      "source": [
        "# Language Modeling using Penn TreeBank"
      ],
      "metadata": {
        "id": "5J6kDRTh1jiM"
      },
      "id": "5J6kDRTh1jiM"
    },
    {
      "cell_type": "markdown",
      "source": [
        "### Load Data"
      ],
      "metadata": {
        "id": "o61zjqFu12GJ"
      },
      "id": "o61zjqFu12GJ"
    },
    {
      "cell_type": "code",
      "execution_count": null,
      "id": "ea60afb6-00dd-4fe7-8653-de63a3f25518",
      "metadata": {
        "tags": [],
        "colab": {
          "base_uri": "https://localhost:8080/"
        },
        "id": "ea60afb6-00dd-4fe7-8653-de63a3f25518",
        "outputId": "0ec4573a-23b5-446e-d89b-075dc1e84805"
      },
      "outputs": [
        {
          "output_type": "stream",
          "name": "stdout",
          "text": [
            "Looking in indexes: https://pypi.org/simple, https://us-python.pkg.dev/colab-wheels/public/simple/\n",
            "Collecting datasets\n",
            "  Downloading datasets-2.6.1-py3-none-any.whl (441 kB)\n",
            "\u001b[K     |████████████████████████████████| 441 kB 28.6 MB/s \n",
            "\u001b[?25hRequirement already satisfied: pandas in /usr/local/lib/python3.7/dist-packages (from datasets) (1.3.5)\n",
            "Collecting dill<0.3.6\n",
            "  Downloading dill-0.3.5.1-py2.py3-none-any.whl (95 kB)\n",
            "\u001b[K     |████████████████████████████████| 95 kB 6.2 MB/s \n",
            "\u001b[?25hRequirement already satisfied: pyyaml>=5.1 in /usr/local/lib/python3.7/dist-packages (from datasets) (6.0)\n",
            "Requirement already satisfied: requests>=2.19.0 in /usr/local/lib/python3.7/dist-packages (from datasets) (2.23.0)\n",
            "Requirement already satisfied: pyarrow>=6.0.0 in /usr/local/lib/python3.7/dist-packages (from datasets) (6.0.1)\n",
            "Requirement already satisfied: packaging in /usr/local/lib/python3.7/dist-packages (from datasets) (21.3)\n",
            "Collecting xxhash\n",
            "  Downloading xxhash-3.1.0-cp37-cp37m-manylinux_2_17_x86_64.manylinux2014_x86_64.whl (212 kB)\n",
            "\u001b[K     |████████████████████████████████| 212 kB 73.9 MB/s \n",
            "\u001b[?25hRequirement already satisfied: tqdm>=4.62.1 in /usr/local/lib/python3.7/dist-packages (from datasets) (4.64.1)\n",
            "Collecting multiprocess\n",
            "  Downloading multiprocess-0.70.14-py37-none-any.whl (115 kB)\n",
            "\u001b[K     |████████████████████████████████| 115 kB 66.3 MB/s \n",
            "\u001b[?25hRequirement already satisfied: aiohttp in /usr/local/lib/python3.7/dist-packages (from datasets) (3.8.3)\n",
            "Collecting huggingface-hub<1.0.0,>=0.2.0\n",
            "  Downloading huggingface_hub-0.10.1-py3-none-any.whl (163 kB)\n",
            "\u001b[K     |████████████████████████████████| 163 kB 15.6 MB/s \n",
            "\u001b[?25hRequirement already satisfied: importlib-metadata in /usr/local/lib/python3.7/dist-packages (from datasets) (4.13.0)\n",
            "Collecting responses<0.19\n",
            "  Downloading responses-0.18.0-py3-none-any.whl (38 kB)\n",
            "Requirement already satisfied: numpy>=1.17 in /usr/local/lib/python3.7/dist-packages (from datasets) (1.21.6)\n",
            "Requirement already satisfied: fsspec[http]>=2021.11.1 in /usr/local/lib/python3.7/dist-packages (from datasets) (2022.10.0)\n",
            "Requirement already satisfied: multidict<7.0,>=4.5 in /usr/local/lib/python3.7/dist-packages (from aiohttp->datasets) (6.0.2)\n",
            "Requirement already satisfied: async-timeout<5.0,>=4.0.0a3 in /usr/local/lib/python3.7/dist-packages (from aiohttp->datasets) (4.0.2)\n",
            "Requirement already satisfied: frozenlist>=1.1.1 in /usr/local/lib/python3.7/dist-packages (from aiohttp->datasets) (1.3.3)\n",
            "Requirement already satisfied: yarl<2.0,>=1.0 in /usr/local/lib/python3.7/dist-packages (from aiohttp->datasets) (1.8.1)\n",
            "Requirement already satisfied: typing-extensions>=3.7.4 in /usr/local/lib/python3.7/dist-packages (from aiohttp->datasets) (4.1.1)\n",
            "Requirement already satisfied: aiosignal>=1.1.2 in /usr/local/lib/python3.7/dist-packages (from aiohttp->datasets) (1.3.1)\n",
            "Requirement already satisfied: attrs>=17.3.0 in /usr/local/lib/python3.7/dist-packages (from aiohttp->datasets) (22.1.0)\n",
            "Requirement already satisfied: asynctest==0.13.0 in /usr/local/lib/python3.7/dist-packages (from aiohttp->datasets) (0.13.0)\n",
            "Requirement already satisfied: charset-normalizer<3.0,>=2.0 in /usr/local/lib/python3.7/dist-packages (from aiohttp->datasets) (2.1.1)\n",
            "Requirement already satisfied: filelock in /usr/local/lib/python3.7/dist-packages (from huggingface-hub<1.0.0,>=0.2.0->datasets) (3.8.0)\n",
            "Requirement already satisfied: pyparsing!=3.0.5,>=2.0.2 in /usr/local/lib/python3.7/dist-packages (from packaging->datasets) (3.0.9)\n",
            "Requirement already satisfied: urllib3!=1.25.0,!=1.25.1,<1.26,>=1.21.1 in /usr/local/lib/python3.7/dist-packages (from requests>=2.19.0->datasets) (1.24.3)\n",
            "Requirement already satisfied: chardet<4,>=3.0.2 in /usr/local/lib/python3.7/dist-packages (from requests>=2.19.0->datasets) (3.0.4)\n",
            "Requirement already satisfied: idna<3,>=2.5 in /usr/local/lib/python3.7/dist-packages (from requests>=2.19.0->datasets) (2.10)\n",
            "Requirement already satisfied: certifi>=2017.4.17 in /usr/local/lib/python3.7/dist-packages (from requests>=2.19.0->datasets) (2022.9.24)\n",
            "Collecting urllib3!=1.25.0,!=1.25.1,<1.26,>=1.21.1\n",
            "  Downloading urllib3-1.25.11-py2.py3-none-any.whl (127 kB)\n",
            "\u001b[K     |████████████████████████████████| 127 kB 73.1 MB/s \n",
            "\u001b[?25hRequirement already satisfied: zipp>=0.5 in /usr/local/lib/python3.7/dist-packages (from importlib-metadata->datasets) (3.10.0)\n",
            "Collecting multiprocess\n",
            "  Downloading multiprocess-0.70.13-py37-none-any.whl (115 kB)\n",
            "\u001b[K     |████████████████████████████████| 115 kB 63.9 MB/s \n",
            "\u001b[?25hRequirement already satisfied: python-dateutil>=2.7.3 in /usr/local/lib/python3.7/dist-packages (from pandas->datasets) (2.8.2)\n",
            "Requirement already satisfied: pytz>=2017.3 in /usr/local/lib/python3.7/dist-packages (from pandas->datasets) (2022.6)\n",
            "Requirement already satisfied: six>=1.5 in /usr/local/lib/python3.7/dist-packages (from python-dateutil>=2.7.3->pandas->datasets) (1.15.0)\n",
            "Installing collected packages: urllib3, dill, xxhash, responses, multiprocess, huggingface-hub, datasets\n",
            "  Attempting uninstall: urllib3\n",
            "    Found existing installation: urllib3 1.24.3\n",
            "    Uninstalling urllib3-1.24.3:\n",
            "      Successfully uninstalled urllib3-1.24.3\n",
            "  Attempting uninstall: dill\n",
            "    Found existing installation: dill 0.3.6\n",
            "    Uninstalling dill-0.3.6:\n",
            "      Successfully uninstalled dill-0.3.6\n",
            "Successfully installed datasets-2.6.1 dill-0.3.5.1 huggingface-hub-0.10.1 multiprocess-0.70.13 responses-0.18.0 urllib3-1.25.11 xxhash-3.1.0\n",
            "Looking in indexes: https://pypi.org/simple, https://us-python.pkg.dev/colab-wheels/public/simple/\n",
            "Requirement already satisfied: torch in /usr/local/lib/python3.7/dist-packages (1.12.1+cu113)\n",
            "Requirement already satisfied: typing-extensions in /usr/local/lib/python3.7/dist-packages (from torch) (4.1.1)\n"
          ]
        }
      ],
      "source": [
        "!pip install datasets\n",
        "!pip install torch"
      ]
    },
    {
      "cell_type": "markdown",
      "source": [
        "### Load Pre-trained embeddings\n",
        "FastText wiki-news 300 dimension pre-trained embeddings are used here\n"
      ],
      "metadata": {
        "id": "bg70t8fI153J"
      },
      "id": "bg70t8fI153J"
    },
    {
      "cell_type": "code",
      "execution_count": null,
      "id": "72b50fc1-e68c-4843-9297-a74bec974a23",
      "metadata": {
        "id": "72b50fc1-e68c-4843-9297-a74bec974a23",
        "colab": {
          "base_uri": "https://localhost:8080/"
        },
        "outputId": "6c20bd48-4655-4b1a-d3b2-6d4f9509ff8e"
      },
      "outputs": [
        {
          "output_type": "stream",
          "name": "stdout",
          "text": [
            "--2022-11-15 06:28:02--  https://dl.fbaipublicfiles.com/fasttext/vectors-english/wiki-news-300d-1M.vec.zip\n",
            "Resolving dl.fbaipublicfiles.com (dl.fbaipublicfiles.com)... 104.22.74.142, 172.67.9.4, 104.22.75.142, ...\n",
            "Connecting to dl.fbaipublicfiles.com (dl.fbaipublicfiles.com)|104.22.74.142|:443... connected.\n",
            "HTTP request sent, awaiting response... 200 OK\n",
            "Length: 681808098 (650M) [application/zip]\n",
            "Saving to: ‘wiki-news-300d-1M.vec.zip’\n",
            "\n",
            "wiki-news-300d-1M.v 100%[===================>] 650.22M  43.6MB/s    in 15s     \n",
            "\n",
            "2022-11-15 06:28:18 (42.0 MB/s) - ‘wiki-news-300d-1M.vec.zip’ saved [681808098/681808098]\n",
            "\n",
            "Archive:  wiki-news-300d-1M.vec.zip\n",
            "  inflating: wiki-news-300d-1M.vec   \n"
          ]
        }
      ],
      "source": [
        "!wget https://dl.fbaipublicfiles.com/fasttext/vectors-english/wiki-news-300d-1M.vec.zip\n",
        "!unzip wiki-news-300d-1M.vec.zip"
      ]
    },
    {
      "cell_type": "code",
      "execution_count": null,
      "id": "5e3b3466-7850-4f9a-8e8d-02e33b96703b",
      "metadata": {
        "id": "5e3b3466-7850-4f9a-8e8d-02e33b96703b"
      },
      "outputs": [],
      "source": [
        "from datasets import load_dataset\n",
        "import pandas as pd\n",
        "from tqdm import tqdm\n",
        "import numpy as np\n",
        "import torch\n",
        "from torch import nn\n",
        "from torch.utils.data import Dataset, DataLoader"
      ]
    },
    {
      "cell_type": "code",
      "execution_count": null,
      "id": "c9ccf089-68ef-4595-873b-bb4dd77baf5e",
      "metadata": {
        "colab": {
          "base_uri": "https://localhost:8080/",
          "height": 87,
          "referenced_widgets": [
            "b146c4ee96704175853a158c4d9e08a9",
            "3d1c3e168f9c4098bab0f4eed75a3518",
            "649ff954f6c148429331670e898eac4d",
            "3c77243074664656b13d889068b69ac8",
            "af20634a86e04e3495f6a21d812ff0cb",
            "40b0a949928e4af2a3704ef69e076f4f",
            "9b98b9e2427e4ca5ae04f57750ce329d",
            "1f443cf39f974b02bdb61cc7b2d39981",
            "1180be1374824b8eba7983abe78669ee",
            "47d4d6b2bca84a39b51bcc187eec68cf",
            "1375feed5e60489e81261706a62441f2"
          ]
        },
        "id": "c9ccf089-68ef-4595-873b-bb4dd77baf5e",
        "outputId": "cffb7536-6a56-4580-f27e-4aa1c29f8518"
      },
      "outputs": [
        {
          "output_type": "stream",
          "name": "stderr",
          "text": [
            "WARNING:datasets.builder:Found cached dataset ptb_text_only (/root/.cache/huggingface/datasets/ptb_text_only/penn_treebank/1.1.0/8d1b97746fb9765d140e569ec5ddd35e20af4d37761f5e1bf357ea0b081f2c1f)\n"
          ]
        },
        {
          "output_type": "display_data",
          "data": {
            "text/plain": [
              "  0%|          | 0/3 [00:00<?, ?it/s]"
            ],
            "application/vnd.jupyter.widget-view+json": {
              "version_major": 2,
              "version_minor": 0,
              "model_id": "b146c4ee96704175853a158c4d9e08a9"
            }
          },
          "metadata": {}
        }
      ],
      "source": [
        "ptb = load_dataset('ptb_text_only')"
      ]
    },
    {
      "cell_type": "code",
      "execution_count": null,
      "id": "b9d0d872-3d12-4322-b301-99a028533467",
      "metadata": {
        "colab": {
          "base_uri": "https://localhost:8080/"
        },
        "id": "b9d0d872-3d12-4322-b301-99a028533467",
        "outputId": "fbbbb6cd-6bcc-4084-c5dd-580dcaa4fff2"
      },
      "outputs": [
        {
          "output_type": "execute_result",
          "data": {
            "text/plain": [
              "DatasetDict({\n",
              "    train: Dataset({\n",
              "        features: ['sentence'],\n",
              "        num_rows: 42068\n",
              "    })\n",
              "    test: Dataset({\n",
              "        features: ['sentence'],\n",
              "        num_rows: 3761\n",
              "    })\n",
              "    validation: Dataset({\n",
              "        features: ['sentence'],\n",
              "        num_rows: 3370\n",
              "    })\n",
              "})"
            ]
          },
          "metadata": {},
          "execution_count": 73
        }
      ],
      "source": [
        "ptb"
      ]
    },
    {
      "cell_type": "code",
      "execution_count": null,
      "id": "6548cd19-345c-4ba2-b70d-62c22fecff08",
      "metadata": {
        "tags": [],
        "id": "6548cd19-345c-4ba2-b70d-62c22fecff08"
      },
      "outputs": [],
      "source": [
        "train = ptb['train']['sentence']\n",
        "validation = ptb['validation']['sentence']\n",
        "test = ptb['test']['sentence']"
      ]
    },
    {
      "cell_type": "code",
      "execution_count": null,
      "id": "fab8edaa-2e01-4a4b-b18d-53988b9b998d",
      "metadata": {
        "colab": {
          "base_uri": "https://localhost:8080/"
        },
        "id": "fab8edaa-2e01-4a4b-b18d-53988b9b998d",
        "outputId": "84826567-4be1-42cf-a132-ebbdef69c898"
      },
      "outputs": [
        {
          "output_type": "stream",
          "name": "stdout",
          "text": [
            "42068 3370 3761\n"
          ]
        }
      ],
      "source": [
        "print(len(train), len(validation), len(test))"
      ]
    },
    {
      "cell_type": "code",
      "execution_count": null,
      "id": "48c2b399-ae2b-4bdb-8d31-981dc612ca2e",
      "metadata": {
        "id": "48c2b399-ae2b-4bdb-8d31-981dc612ca2e"
      },
      "outputs": [],
      "source": [
        "#drop first line which doesnt seem to be english\n",
        "train = train[1:]"
      ]
    },
    {
      "cell_type": "markdown",
      "id": "9266121b-6cf5-4ece-afa2-504c9eba61e1",
      "metadata": {
        "id": "9266121b-6cf5-4ece-afa2-504c9eba61e1"
      },
      "source": [
        "### Text Preprocessing\n",
        "In this module, basic text preprocessing steps such as replacing '-', lower casing the text and tokenizing based on space is done."
      ]
    },
    {
      "cell_type": "code",
      "execution_count": null,
      "id": "54a21feb-18fd-4251-a2c5-6026fa8d1695",
      "metadata": {
        "id": "54a21feb-18fd-4251-a2c5-6026fa8d1695"
      },
      "outputs": [],
      "source": [
        "import string\n",
        "start_token = '<sos>'\n",
        "def preprocess_text(texts):\n",
        "    tokenized_sent = []\n",
        "    for sent in texts:\n",
        "        tokenized_txt = []\n",
        "        sent = sent.replace('-', ' ')\n",
        "        sent_tokens = sent.split(' ')\n",
        "        sent_tokens = [word.lower() for word in sent_tokens]\n",
        "        tokenized_txt.append(start_token)\n",
        "        tokenized_txt.extend(sent_tokens)\n",
        "        tokenized_sent.append(tokenized_txt)\n",
        "    return tokenized_sent"
      ]
    },
    {
      "cell_type": "code",
      "execution_count": null,
      "id": "c43202d9-6951-47f8-ad39-55e203345fea",
      "metadata": {
        "id": "c43202d9-6951-47f8-ad39-55e203345fea"
      },
      "outputs": [],
      "source": [
        "# tokenize and clean data train\n",
        "train_tokens = preprocess_text(train)\n",
        "valid_tokens = preprocess_text(validation)\n",
        "test_tokens = preprocess_text(test)"
      ]
    },
    {
      "cell_type": "markdown",
      "source": [
        "### Vocab Creation\n",
        "A word-to-index dictionary is created using the unique tokens available in the training set along with the tags for unknown token and the start of sentence token."
      ],
      "metadata": {
        "id": "UBoDJ-k9488Z"
      },
      "id": "UBoDJ-k9488Z"
    },
    {
      "cell_type": "code",
      "execution_count": null,
      "id": "c038d035-6ddb-49b7-a4d9-c1109d256d2f",
      "metadata": {
        "id": "c038d035-6ddb-49b7-a4d9-c1109d256d2f"
      },
      "outputs": [],
      "source": [
        "# create vocab dict\n",
        "def word2index(tokens):\n",
        "    word2idx = {}\n",
        "    word2idx['<sos>'] = 0\n",
        "    word2idx['<unk>'] = 1\n",
        "    idx = 2\n",
        "    for token_list in tokens:\n",
        "        for token in token_list:\n",
        "            if token not in word2idx:\n",
        "                word2idx[token] = idx\n",
        "                idx += 1\n",
        "    return word2idx"
      ]
    },
    {
      "cell_type": "code",
      "execution_count": null,
      "id": "5b24d9e9-9a42-4fdf-9704-06ef6d1eff2a",
      "metadata": {
        "colab": {
          "base_uri": "https://localhost:8080/"
        },
        "id": "5b24d9e9-9a42-4fdf-9704-06ef6d1eff2a",
        "outputId": "a278c394-3df0-4728-b156-ace9ff755365"
      },
      "outputs": [
        {
          "output_type": "execute_result",
          "data": {
            "text/plain": [
              "9719"
            ]
          },
          "metadata": {},
          "execution_count": 80
        }
      ],
      "source": [
        "word2idx_dict = word2index(train_tokens)\n",
        "len(word2idx_dict)"
      ]
    },
    {
      "cell_type": "markdown",
      "id": "05edf219-8717-4876-b9de-b9d0a389478f",
      "metadata": {
        "id": "05edf219-8717-4876-b9de-b9d0a389478f"
      },
      "source": [
        "### Encode data\n",
        "Module uses the word2index dictionary to encode all the tokens in the training, validationa and test set\n"
      ]
    },
    {
      "cell_type": "code",
      "execution_count": null,
      "id": "a3743908-a960-490e-9ce1-a3194346d0ac",
      "metadata": {
        "tags": [],
        "id": "a3743908-a960-490e-9ce1-a3194346d0ac"
      },
      "outputs": [],
      "source": [
        "def encode_data(tokenized_sent):\n",
        "    encoded_data = []\n",
        "    for sent in tokenized_sent:\n",
        "        encoded_sent = []\n",
        "        for token in sent:\n",
        "            if word2idx_dict.get(token):\n",
        "                encoded_sent.append(word2idx_dict[token])\n",
        "            else:\n",
        "                encoded_sent.append(1)\n",
        "        encoded_data.append(encoded_sent)\n",
        "    return encoded_data"
      ]
    },
    {
      "cell_type": "code",
      "execution_count": null,
      "id": "5a6c877c-d3f9-443f-9200-4b2e750e42a6",
      "metadata": {
        "id": "5a6c877c-d3f9-443f-9200-4b2e750e42a6"
      },
      "outputs": [],
      "source": [
        "encoded_train = encode_data(train_tokens)\n",
        "encoded_valid = encode_data(valid_tokens)\n",
        "encoded_test = encode_data(test_tokens)"
      ]
    },
    {
      "cell_type": "code",
      "execution_count": null,
      "id": "18294293-e70d-4ed8-8574-c2a249a233ff",
      "metadata": {
        "id": "18294293-e70d-4ed8-8574-c2a249a233ff"
      },
      "outputs": [],
      "source": [
        "encoded_train_corpus = []\n",
        "for sent in encoded_train:\n",
        "    encoded_train_corpus.extend(sent)"
      ]
    },
    {
      "cell_type": "code",
      "execution_count": null,
      "id": "597d6f70-a57b-4480-890f-5ac7ccf48859",
      "metadata": {
        "id": "597d6f70-a57b-4480-890f-5ac7ccf48859"
      },
      "outputs": [],
      "source": [
        "encoded_valid_corpus = []\n",
        "for sent in encoded_valid:\n",
        "    encoded_valid_corpus.extend(sent)"
      ]
    },
    {
      "cell_type": "code",
      "execution_count": null,
      "id": "71c264bc-edf7-4931-b1ab-a35cfad27f39",
      "metadata": {
        "id": "71c264bc-edf7-4931-b1ab-a35cfad27f39"
      },
      "outputs": [],
      "source": [
        "encoded_test_corpus = []\n",
        "for sent in encoded_test:\n",
        "    encoded_test_corpus.extend(sent)"
      ]
    },
    {
      "cell_type": "markdown",
      "id": "e98d619f-8083-4fec-b954-251cb97050bf",
      "metadata": {
        "id": "e98d619f-8083-4fec-b954-251cb97050bf"
      },
      "source": [
        "### Initialize pretrained embeddings"
      ]
    },
    {
      "cell_type": "code",
      "execution_count": null,
      "id": "3e56c6b5-aa83-433c-9758-57515a056c33",
      "metadata": {
        "id": "3e56c6b5-aa83-433c-9758-57515a056c33"
      },
      "outputs": [],
      "source": [
        "def load_pretrained_vectors(word2idx, fname):\n",
        "    fin = open(fname, 'r', encoding='utf-8', newline='\\n', errors='ignore')\n",
        "    n, d = map(int, fin.readline().split())\n",
        "\n",
        "    # Initilize random embeddings\n",
        "    embeddings = np.random.uniform(-0.25, 0.25, (len(word2idx), d))\n",
        "    # initialize the start of sentence token\n",
        "    embeddings[word2idx['<sos>']] = np.zeros((d,))\n",
        "\n",
        "    # Load pretrained vectors\n",
        "    count = 0\n",
        "    for line in fin:\n",
        "        tokens = line.rstrip().split(' ')\n",
        "        word = tokens[0]\n",
        "        if word in word2idx:\n",
        "            count += 1\n",
        "            embeddings[word2idx[word]] = np.array(tokens[1:], dtype=np.float32)\n",
        "\n",
        "    print('Initialization complete')\n",
        "    print(f\"{count} / {len(word2idx)} pretrained vectors found.\")\n",
        "\n",
        "    return embeddings"
      ]
    },
    {
      "cell_type": "code",
      "execution_count": null,
      "id": "f3be448c-c01b-4796-a392-5f90735cf797",
      "metadata": {
        "colab": {
          "base_uri": "https://localhost:8080/"
        },
        "id": "f3be448c-c01b-4796-a392-5f90735cf797",
        "outputId": "ad018637-ae87-49d8-b7be-d0571893e1c4"
      },
      "outputs": [
        {
          "output_type": "stream",
          "name": "stdout",
          "text": [
            "Initialization complete\n",
            "9152 / 9719 pretrained vectors found.\n"
          ]
        }
      ],
      "source": [
        "embeddings = load_pretrained_vectors(word2idx_dict, \"/content/wiki-news-300d-1M.vec\")\n",
        "embeddings = torch.tensor(embeddings, dtype = torch.float32)"
      ]
    },
    {
      "cell_type": "code",
      "execution_count": null,
      "id": "9715d27d-a506-4379-a6c9-c1c4ded4fa38",
      "metadata": {
        "colab": {
          "base_uri": "https://localhost:8080/"
        },
        "id": "9715d27d-a506-4379-a6c9-c1c4ded4fa38",
        "outputId": "674581f6-d37b-447b-e9ba-b21ab5481878"
      },
      "outputs": [
        {
          "output_type": "execute_result",
          "data": {
            "text/plain": [
              "torch.Size([9719, 300])"
            ]
          },
          "metadata": {},
          "execution_count": 88
        }
      ],
      "source": [
        "embeddings.shape"
      ]
    },
    {
      "cell_type": "code",
      "execution_count": null,
      "id": "8c0f43ef-bdc4-4830-ba07-c3ce292f5cac",
      "metadata": {
        "id": "8c0f43ef-bdc4-4830-ba07-c3ce292f5cac"
      },
      "outputs": [],
      "source": [
        "def generate_input_target(corpus, seq_length):\n",
        "    x_text = []\n",
        "    y_text = []\n",
        "    for i in range(seq_length, len(corpus), seq_length):\n",
        "        x = corpus[i-seq_length:i]\n",
        "        y = corpus[i-seq_length+1: i+1]\n",
        "        x_text.append(x)\n",
        "        y_text.append(y)\n",
        "    return x_text, y_text"
      ]
    },
    {
      "cell_type": "code",
      "execution_count": null,
      "id": "95d5dbf1-fe8e-4f49-9e0c-bf4df1763661",
      "metadata": {
        "tags": [],
        "id": "95d5dbf1-fe8e-4f49-9e0c-bf4df1763661"
      },
      "outputs": [],
      "source": [
        "# setup number of tokens to be included in a single sequence\n",
        "sequence_length = 128\n",
        "x_train, y_train = generate_input_target(encoded_train_corpus,sequence_length)\n",
        "x_valid, y_valid = generate_input_target(encoded_valid_corpus, sequence_length)\n",
        "x_test, y_test = generate_input_target(encoded_test_corpus, sequence_length)"
      ]
    },
    {
      "cell_type": "code",
      "execution_count": null,
      "id": "0e4ed2f9-1334-4c35-96ae-2cb539ff7ac7",
      "metadata": {
        "tags": [],
        "colab": {
          "base_uri": "https://localhost:8080/"
        },
        "id": "0e4ed2f9-1334-4c35-96ae-2cb539ff7ac7",
        "outputId": "a002dd88-2f18-4e34-8f45-f24c88714ae6"
      },
      "outputs": [
        {
          "output_type": "stream",
          "name": "stdout",
          "text": [
            "Training examples:  7308 7308\n"
          ]
        }
      ],
      "source": [
        "print('Training examples: ', len(x_train), len(y_train))"
      ]
    },
    {
      "cell_type": "code",
      "execution_count": null,
      "id": "34933dd3-2652-45b5-9ca7-12a0d6d0f568",
      "metadata": {
        "colab": {
          "base_uri": "https://localhost:8080/"
        },
        "id": "34933dd3-2652-45b5-9ca7-12a0d6d0f568",
        "outputId": "27d1d429-05f3-42fd-b7cc-063c2eec5b44"
      },
      "outputs": [
        {
          "output_type": "stream",
          "name": "stdout",
          "text": [
            "Validation examples:  580 580\n"
          ]
        }
      ],
      "source": [
        "print('Validation examples: ', len(x_valid), len(y_valid))"
      ]
    },
    {
      "cell_type": "code",
      "execution_count": null,
      "id": "89ed3b07-d989-4f15-b0c9-c9025abc97ec",
      "metadata": {
        "colab": {
          "base_uri": "https://localhost:8080/"
        },
        "id": "89ed3b07-d989-4f15-b0c9-c9025abc97ec",
        "outputId": "8023ed47-b82e-4244-91b5-e50bdc611bd9"
      },
      "outputs": [
        {
          "output_type": "stream",
          "name": "stdout",
          "text": [
            "Testing examples:  647 647\n"
          ]
        }
      ],
      "source": [
        "print('Testing examples: ', len(x_test), len(y_test))"
      ]
    },
    {
      "cell_type": "code",
      "execution_count": null,
      "id": "2ca70b67-78d2-4c08-bbf2-cd6c1c37454a",
      "metadata": {
        "colab": {
          "base_uri": "https://localhost:8080/"
        },
        "id": "2ca70b67-78d2-4c08-bbf2-cd6c1c37454a",
        "outputId": "51c4b217-eaa8-47a9-8f3e-fc480ee09cd9"
      },
      "outputs": [
        {
          "output_type": "stream",
          "name": "stdout",
          "text": [
            "cuda\n"
          ]
        }
      ],
      "source": [
        "device = 'cuda' if torch.cuda.is_available() else 'cpu'\n",
        "print(device)"
      ]
    },
    {
      "cell_type": "markdown",
      "source": [
        "### Building Dataset class\n",
        "Transforms the input, output sequences to torch.tensor format"
      ],
      "metadata": {
        "id": "iLTYdGkrpoWN"
      },
      "id": "iLTYdGkrpoWN"
    },
    {
      "cell_type": "code",
      "execution_count": null,
      "id": "8d710209-dd57-457b-98ee-305abc0cd403",
      "metadata": {
        "id": "8d710209-dd57-457b-98ee-305abc0cd403"
      },
      "outputs": [],
      "source": [
        "class dataset_class(Dataset):\n",
        "    def __init__(self, x_data, y_data):\n",
        "        self.xdata = x_data\n",
        "        self.ydata = y_data\n",
        "    \n",
        "    def encode_text(self, text):\n",
        "        return torch.tensor(text, device=device)\n",
        "\n",
        "    def encode_label(self, label):\n",
        "        return torch.tensor(label, device=device)\n",
        "  \n",
        "    def __getitem__(self, n: int):\n",
        "        text = self.xdata[n]\n",
        "        label = self.ydata[n]\n",
        "        return self.encode_text(text), self.encode_label(label)\n",
        "\n",
        "    def __len__(self):\n",
        "        return len(self.xdata)"
      ]
    },
    {
      "cell_type": "code",
      "execution_count": null,
      "id": "34854a9a-2b62-4b25-b2b2-bdffb7503685",
      "metadata": {
        "tags": [],
        "id": "34854a9a-2b62-4b25-b2b2-bdffb7503685"
      },
      "outputs": [],
      "source": [
        "train_df = dataset_class(x_train,y_train)\n",
        "val_df = dataset_class(x_valid, y_valid)\n",
        "test_df = dataset_class(x_valid, y_valid)"
      ]
    },
    {
      "cell_type": "markdown",
      "source": [
        "### Setting up the data loaders for the training, vaidation and testing datasets"
      ],
      "metadata": {
        "id": "ABcmU3LGqBT0"
      },
      "id": "ABcmU3LGqBT0"
    },
    {
      "cell_type": "code",
      "execution_count": null,
      "id": "69cdb5ac-849c-4c54-8360-c0f9a75fbb23",
      "metadata": {
        "id": "69cdb5ac-849c-4c54-8360-c0f9a75fbb23"
      },
      "outputs": [],
      "source": [
        "# create data loader\n",
        "batch_size = 64\n",
        "train_loader = DataLoader(train_df, batch_size=batch_size, shuffle=True)\n",
        "valid_loader = DataLoader(val_df, batch_size=batch_size, shuffle=True)\n",
        "test_loader = DataLoader(test_df, batch_size=batch_size, shuffle=True)"
      ]
    },
    {
      "cell_type": "markdown",
      "id": "b7bb6ec5-ee09-4028-9813-1ab2c4ca819c",
      "metadata": {
        "id": "b7bb6ec5-ee09-4028-9813-1ab2c4ca819c"
      },
      "source": [
        "### Build model class (LSTM)\n"
      ]
    },
    {
      "cell_type": "code",
      "source": [
        "import torch.nn as nn\n",
        "class LM(nn.Module):\n",
        "\n",
        "    def __init__(self, embedding_dim, n_layers, hidden_dim, output_dim, embeddings):\n",
        "        super(LM, self).__init__()\n",
        "        self.hidden_dim = hidden_dim\n",
        "        self.n_layers = n_layers\n",
        "        self.embeddings = nn.Embedding.from_pretrained(embeddings)\n",
        "        self.lstm = nn.LSTM(embedding_dim, hidden_dim, self.n_layers, batch_first = True)\n",
        "        # self.dropout_layer = nn.Dropout(p=0.5)\n",
        "        self.output = nn.Linear(hidden_dim, output_dim)\n",
        "        \n",
        "    def forward(self, x):\n",
        "        batch_size = x.size(0)\n",
        "        h, c = self.init_hidden(batch_size)\n",
        "        embedding_op = self.embeddings(x)\n",
        "        out, hidden = self.lstm(embedding_op, (h.detach(), c.detach()))\n",
        "        # out = self.dropout_layer(out)\n",
        "        out = out.contiguous().view(-1, self.hidden_dim)\n",
        "        out = self.output(out)\n",
        "        return out, hidden\n",
        "    \n",
        "    def init_hidden(self, batch_size):\n",
        "        hidden = (torch.zeros(self.n_layers, batch_size, self.hidden_dim).to(device), torch.zeros(self.n_layers, batch_size, self.hidden_dim).to(device))\n",
        "        return hidden"
      ],
      "metadata": {
        "id": "yrWmktsJbBjN"
      },
      "id": "yrWmktsJbBjN",
      "execution_count": null,
      "outputs": []
    },
    {
      "cell_type": "code",
      "execution_count": null,
      "id": "5bc19b12-b698-43c7-98c7-f74b5247fadb",
      "metadata": {
        "tags": [],
        "colab": {
          "base_uri": "https://localhost:8080/"
        },
        "id": "5bc19b12-b698-43c7-98c7-f74b5247fadb",
        "outputId": "1d95b29c-ddc3-4302-868d-e6ad535b1d87"
      },
      "outputs": [
        {
          "output_type": "execute_result",
          "data": {
            "text/plain": [
              "LM(\n",
              "  (embeddings): Embedding(9719, 300)\n",
              "  (lstm): LSTM(300, 512, batch_first=True)\n",
              "  (output): Linear(in_features=512, out_features=9719, bias=True)\n",
              ")"
            ]
          },
          "metadata": {},
          "execution_count": 99
        }
      ],
      "source": [
        "embedding_dim = 300\n",
        "output_dim = len(word2idx_dict)\n",
        "hidden_dim = 512\n",
        "n_layers = 1\n",
        "model = LM(embedding_dim, n_layers, hidden_dim, output_dim, embeddings=embeddings)\n",
        "model.to(device)"
      ]
    },
    {
      "cell_type": "markdown",
      "source": [
        "### Set up Training and Evaluate functions "
      ],
      "metadata": {
        "id": "HpcKDSR-72aN"
      },
      "id": "HpcKDSR-72aN"
    },
    {
      "cell_type": "code",
      "execution_count": null,
      "id": "f1990399-1105-45bd-9beb-1002d04b1d50",
      "metadata": {
        "id": "f1990399-1105-45bd-9beb-1002d04b1d50"
      },
      "outputs": [],
      "source": [
        "def train(loader, model, optimizer, loss_fn):\n",
        "    model.train()\n",
        "    losses = []\n",
        "    pbar = tqdm(loader)\n",
        "    for x, y in pbar:\n",
        "        optimizer.zero_grad()\n",
        "        x = x.to(device)\n",
        "        logits, hidden = model(x)\n",
        "        output = logits.to(device)\n",
        "        target_seq = y.to(device)\n",
        "        loss = loss_fn(output, target_seq.view(-1).long())\n",
        "        loss.backward()\n",
        "        optimizer.step()\n",
        "        losses.append(loss)\n",
        "    avg_loss = (sum(losses)/len(losses))\n",
        "    perplexity  = torch.exp(avg_loss)\n",
        "    return avg_loss.item(), perplexity.item()\n",
        "\n",
        "def evaluate(loader, model, loss_fn):\n",
        "    losses = []\n",
        "    print('Starting validation')\n",
        "    model.eval()\n",
        "    predictions = []\n",
        "    labels = []\n",
        "    val_losses =[]\n",
        "    for x, y in tqdm(loader):\n",
        "      x = x.to(device)\n",
        "      logits, hidden = model(x)\n",
        "      output = logits.to(device)\n",
        "      target_seq = y.to(device)\n",
        "      val_loss = loss_fn(output, target_seq.view(-1).long())\n",
        "      val_losses.append(val_loss)\n",
        "    avg_val_loss = sum(val_losses)/len(val_losses)\n",
        "    val_perp = torch.exp(avg_val_loss)\n",
        "    return avg_val_loss.item(), val_perp.item()"
      ]
    },
    {
      "cell_type": "markdown",
      "source": [
        "### Set up Epoch loop"
      ],
      "metadata": {
        "id": "5iV0L2IU8Qvq"
      },
      "id": "5iV0L2IU8Qvq"
    },
    {
      "cell_type": "code",
      "execution_count": null,
      "id": "e75b5672-32a2-4ed6-a4d8-efd6736ddc1e",
      "metadata": {
        "colab": {
          "base_uri": "https://localhost:8080/"
        },
        "id": "e75b5672-32a2-4ed6-a4d8-efd6736ddc1e",
        "outputId": "ffd54364-7567-4af3-cef6-97a2ef310b89"
      },
      "outputs": [
        {
          "output_type": "stream",
          "name": "stdout",
          "text": [
            "Epoch:  0\n"
          ]
        },
        {
          "output_type": "stream",
          "name": "stderr",
          "text": [
            "100%|██████████| 115/115 [00:11<00:00,  9.79it/s]\n"
          ]
        },
        {
          "output_type": "stream",
          "name": "stdout",
          "text": [
            "Train loss:  6.762661457061768\n",
            "Train perplexity:  864.941162109375\n",
            "Starting validation\n"
          ]
        },
        {
          "output_type": "stream",
          "name": "stderr",
          "text": [
            "100%|██████████| 10/10 [00:00<00:00, 29.58it/s]\n"
          ]
        },
        {
          "output_type": "stream",
          "name": "stdout",
          "text": [
            "Validation loss 6.275948524475098\n",
            "Validation perplexity 531.6304321289062\n",
            "Starting validation\n"
          ]
        },
        {
          "output_type": "stream",
          "name": "stderr",
          "text": [
            "100%|██████████| 10/10 [00:00<00:00, 29.70it/s]\n"
          ]
        },
        {
          "output_type": "stream",
          "name": "stdout",
          "text": [
            "test loss 6.298608303070068\n",
            "test perplexity 543.8145751953125\n",
            "Epoch:  1\n"
          ]
        },
        {
          "output_type": "stream",
          "name": "stderr",
          "text": [
            "100%|██████████| 115/115 [00:11<00:00,  9.85it/s]\n"
          ]
        },
        {
          "output_type": "stream",
          "name": "stdout",
          "text": [
            "Train loss:  5.765979766845703\n",
            "Train perplexity:  319.2516784667969\n",
            "Starting validation\n"
          ]
        },
        {
          "output_type": "stream",
          "name": "stderr",
          "text": [
            "100%|██████████| 10/10 [00:00<00:00, 29.40it/s]\n"
          ]
        },
        {
          "output_type": "stream",
          "name": "stdout",
          "text": [
            "Validation loss 5.318331718444824\n",
            "Validation perplexity 204.04319763183594\n",
            "Starting validation\n"
          ]
        },
        {
          "output_type": "stream",
          "name": "stderr",
          "text": [
            "100%|██████████| 10/10 [00:00<00:00, 29.02it/s]\n"
          ]
        },
        {
          "output_type": "stream",
          "name": "stdout",
          "text": [
            "test loss 5.294408321380615\n",
            "test perplexity 199.2197265625\n",
            "Epoch:  2\n"
          ]
        },
        {
          "output_type": "stream",
          "name": "stderr",
          "text": [
            "100%|██████████| 115/115 [00:12<00:00,  9.55it/s]\n"
          ]
        },
        {
          "output_type": "stream",
          "name": "stdout",
          "text": [
            "Train loss:  5.0160813331604\n",
            "Train perplexity:  150.8191375732422\n",
            "Starting validation\n"
          ]
        },
        {
          "output_type": "stream",
          "name": "stderr",
          "text": [
            "100%|██████████| 10/10 [00:00<00:00, 28.92it/s]\n"
          ]
        },
        {
          "output_type": "stream",
          "name": "stdout",
          "text": [
            "Validation loss 4.9403910636901855\n",
            "Validation perplexity 139.82492065429688\n",
            "Starting validation\n"
          ]
        },
        {
          "output_type": "stream",
          "name": "stderr",
          "text": [
            "100%|██████████| 10/10 [00:00<00:00, 28.80it/s]\n"
          ]
        },
        {
          "output_type": "stream",
          "name": "stdout",
          "text": [
            "test loss 4.937229633331299\n",
            "test perplexity 139.38357543945312\n",
            "Epoch:  3\n"
          ]
        },
        {
          "output_type": "stream",
          "name": "stderr",
          "text": [
            "100%|██████████| 115/115 [00:12<00:00,  9.47it/s]\n"
          ]
        },
        {
          "output_type": "stream",
          "name": "stdout",
          "text": [
            "Train loss:  4.603417873382568\n",
            "Train perplexity:  99.82492065429688\n",
            "Starting validation\n"
          ]
        },
        {
          "output_type": "stream",
          "name": "stderr",
          "text": [
            "100%|██████████| 10/10 [00:00<00:00, 28.23it/s]\n"
          ]
        },
        {
          "output_type": "stream",
          "name": "stdout",
          "text": [
            "Validation loss 4.786031723022461\n",
            "Validation perplexity 119.82492065429688\n",
            "Starting validation\n"
          ]
        },
        {
          "output_type": "stream",
          "name": "stderr",
          "text": [
            "100%|██████████| 10/10 [00:00<00:00, 28.56it/s]\n"
          ]
        },
        {
          "output_type": "stream",
          "name": "stdout",
          "text": [
            "test loss 4.755130767822266\n",
            "test perplexity 116.1788558959961\n",
            "Epoch:  4\n"
          ]
        },
        {
          "output_type": "stream",
          "name": "stderr",
          "text": [
            "100%|██████████| 115/115 [00:12<00:00,  9.43it/s]\n"
          ]
        },
        {
          "output_type": "stream",
          "name": "stdout",
          "text": [
            "Train loss:  4.310613632202148\n",
            "Train perplexity:  74.48619079589844\n",
            "Starting validation\n"
          ]
        },
        {
          "output_type": "stream",
          "name": "stderr",
          "text": [
            "100%|██████████| 10/10 [00:00<00:00, 28.18it/s]\n"
          ]
        },
        {
          "output_type": "stream",
          "name": "stdout",
          "text": [
            "Validation loss 4.753882884979248\n",
            "Validation perplexity 116.0339584350586\n",
            "Starting validation\n"
          ]
        },
        {
          "output_type": "stream",
          "name": "stderr",
          "text": [
            "100%|██████████| 10/10 [00:00<00:00, 27.93it/s]\n"
          ]
        },
        {
          "output_type": "stream",
          "name": "stdout",
          "text": [
            "test loss 4.72267484664917\n",
            "test perplexity 112.46868896484375\n",
            "Epoch:  5\n"
          ]
        },
        {
          "output_type": "stream",
          "name": "stderr",
          "text": [
            "100%|██████████| 115/115 [00:12<00:00,  9.37it/s]\n"
          ]
        },
        {
          "output_type": "stream",
          "name": "stdout",
          "text": [
            "Train loss:  4.079267978668213\n",
            "Train perplexity:  59.10218811035156\n",
            "Starting validation\n"
          ]
        },
        {
          "output_type": "stream",
          "name": "stderr",
          "text": [
            "100%|██████████| 10/10 [00:00<00:00, 28.60it/s]\n"
          ]
        },
        {
          "output_type": "stream",
          "name": "stdout",
          "text": [
            "Validation loss 4.782083034515381\n",
            "Validation perplexity 119.35270690917969\n",
            "Starting validation\n"
          ]
        },
        {
          "output_type": "stream",
          "name": "stderr",
          "text": [
            "100%|██████████| 10/10 [00:00<00:00, 28.23it/s]\n"
          ]
        },
        {
          "output_type": "stream",
          "name": "stdout",
          "text": [
            "test loss 4.74276876449585\n",
            "test perplexity 114.75148010253906\n",
            "Epoch:  6\n"
          ]
        },
        {
          "output_type": "stream",
          "name": "stderr",
          "text": [
            "100%|██████████| 115/115 [00:12<00:00,  9.31it/s]\n"
          ]
        },
        {
          "output_type": "stream",
          "name": "stdout",
          "text": [
            "Train loss:  3.8779661655426025\n",
            "Train perplexity:  48.325828552246094\n",
            "Starting validation\n"
          ]
        },
        {
          "output_type": "stream",
          "name": "stderr",
          "text": [
            "100%|██████████| 10/10 [00:00<00:00, 28.57it/s]\n"
          ]
        },
        {
          "output_type": "stream",
          "name": "stdout",
          "text": [
            "Validation loss 4.777912139892578\n",
            "Validation perplexity 118.8559341430664\n",
            "Starting validation\n"
          ]
        },
        {
          "output_type": "stream",
          "name": "stderr",
          "text": [
            "100%|██████████| 10/10 [00:00<00:00, 27.61it/s]"
          ]
        },
        {
          "output_type": "stream",
          "name": "stdout",
          "text": [
            "test loss 4.783372402191162\n",
            "test perplexity 119.50670623779297\n"
          ]
        },
        {
          "output_type": "stream",
          "name": "stderr",
          "text": [
            "\n"
          ]
        }
      ],
      "source": [
        "optimizer = torch.optim.Adam(model.parameters(), lr=0.01)\n",
        "loss_fn = nn.CrossEntropyLoss(ignore_index=0)\n",
        "n_epochs = 30\n",
        "\n",
        "epoch_training_loss = []\n",
        "epoch_training_perplexity = []\n",
        "\n",
        "epoch_validation_loss = []\n",
        "epoch_validation_perplexity = []\n",
        "best_val_perp = 10000\n",
        "\n",
        "epoch_test_loss = []\n",
        "epoch_test_perplexity = []\n",
        "best_test_perp = 10000\n",
        "\n",
        "patience = 0\n",
        "for epoch in range(n_epochs):\n",
        "    print('Epoch: ', epoch)\n",
        "\n",
        "    train_loss, train_perplexity = train(train_loader, model, optimizer, loss_fn)\n",
        "    print('Train loss: ', train_loss)\n",
        "    print('Train perplexity: ', train_perplexity)\n",
        "    epoch_training_loss.append(train_loss)\n",
        "    epoch_training_perplexity.append(train_perplexity)\n",
        "\n",
        "    val_loss, val_perplexity = evaluate(valid_loader, model, loss_fn)\n",
        "    print('Validation loss', val_loss)\n",
        "    print('Validation perplexity', val_perplexity)\n",
        "    epoch_validation_loss.append(val_loss)\n",
        "    epoch_validation_perplexity.append(val_perplexity)\n",
        "    if val_perplexity < best_val_perp:\n",
        "      best_val_perp = val_perplexity\n",
        "\n",
        "    test_loss, test_perplexity = evaluate(test_loader, model, loss_fn)\n",
        "    print('test loss', test_loss)\n",
        "    print('test perplexity', test_perplexity)\n",
        "    epoch_test_loss.append(test_loss)\n",
        "    epoch_test_perplexity.append(test_perplexity)\n",
        "    if  val_perplexity < best_val_perp:\n",
        "      best_val_perp = val_perplexity\n",
        "    else:\n",
        "      patience += 1\n",
        "    if patience == 2:\n",
        "      break"
      ]
    },
    {
      "cell_type": "markdown",
      "source": [
        "### Performance evaluation"
      ],
      "metadata": {
        "id": "oyNH22tW8XZ9"
      },
      "id": "oyNH22tW8XZ9"
    },
    {
      "cell_type": "code",
      "source": [
        "import matplotlib.pyplot as plt\n",
        "\n",
        "epoch_range = range(epoch+1)\n",
        "\n",
        "plt.plot(epoch_range, epoch_training_loss, 'b', label='Training loss')\n",
        "plt.legend()\n",
        "plt.figure()"
      ],
      "metadata": {
        "id": "wm9hErJ3ks7S",
        "colab": {
          "base_uri": "https://localhost:8080/",
          "height": 301
        },
        "outputId": "eb5bd98c-0549-44cd-bdd2-7366129769a0"
      },
      "id": "wm9hErJ3ks7S",
      "execution_count": null,
      "outputs": [
        {
          "output_type": "execute_result",
          "data": {
            "text/plain": [
              "<Figure size 432x288 with 0 Axes>"
            ]
          },
          "metadata": {},
          "execution_count": 102
        },
        {
          "output_type": "display_data",
          "data": {
            "text/plain": [
              "<Figure size 432x288 with 1 Axes>"
            ],
            "image/png": "[encoded data removed]"
          },
          "metadata": {
            "needs_background": "light"
          }
        },
        {
          "output_type": "display_data",
          "data": {
            "text/plain": [
              "<Figure size 432x288 with 0 Axes>"
            ]
          },
          "metadata": {}
        }
      ]
    },
    {
      "cell_type": "code",
      "execution_count": null,
      "id": "fe370768-8dd4-4458-bed5-e1eecefa5f6c",
      "metadata": {
        "id": "fe370768-8dd4-4458-bed5-e1eecefa5f6c",
        "colab": {
          "base_uri": "https://localhost:8080/",
          "height": 301
        },
        "outputId": "95b72b87-d2ff-4c2a-a1e6-8d019e45f60b"
      },
      "outputs": [
        {
          "output_type": "execute_result",
          "data": {
            "text/plain": [
              "<Figure size 432x288 with 0 Axes>"
            ]
          },
          "metadata": {},
          "execution_count": 103
        },
        {
          "output_type": "display_data",
          "data": {
            "text/plain": [
              "<Figure size 432x288 with 1 Axes>"
            ],
            "image/png": "[encoded data removed]"
          },
          "metadata": {
            "needs_background": "light"
          }
        },
        {
          "output_type": "display_data",
          "data": {
            "text/plain": [
              "<Figure size 432x288 with 0 Axes>"
            ]
          },
          "metadata": {}
        }
      ],
      "source": [
        "plt.plot(epoch_range, epoch_validation_loss, 'b', label='Validation loss')\n",
        "plt.legend()\n",
        "plt.figure()"
      ]
    },
    {
      "cell_type": "code",
      "source": [
        "plt.plot(epoch_range, epoch_training_perplexity, 'b', label='Training perplexity')\n",
        "plt.legend()\n",
        "plt.figure()"
      ],
      "metadata": {
        "colab": {
          "base_uri": "https://localhost:8080/",
          "height": 304
        },
        "id": "3iS5YINnqOYg",
        "outputId": "f1fe1304-e043-4d6f-838f-b0d486ebb0d2"
      },
      "id": "3iS5YINnqOYg",
      "execution_count": null,
      "outputs": [
        {
          "output_type": "execute_result",
          "data": {
            "text/plain": [
              "<Figure size 432x288 with 0 Axes>"
            ]
          },
          "metadata": {},
          "execution_count": 104
        },
        {
          "output_type": "display_data",
          "data": {
            "text/plain": [
              "<Figure size 432x288 with 1 Axes>"
            ],
            "image/png": "[encoded data removed]"
          },
          "metadata": {
            "needs_background": "light"
          }
        },
        {
          "output_type": "display_data",
          "data": {
            "text/plain": [
              "<Figure size 432x288 with 0 Axes>"
            ]
          },
          "metadata": {}
        }
      ]
    },
    {
      "cell_type": "code",
      "source": [
        "plt.plot(epoch_range, epoch_validation_perplexity, 'b', label='Validation perplexity')\n",
        "plt.legend()\n",
        "plt.figure()"
      ],
      "metadata": {
        "id": "ofea4ZeJeNp6",
        "colab": {
          "base_uri": "https://localhost:8080/",
          "height": 301
        },
        "outputId": "3a828320-3b75-4086-908e-f70ffb2e0a40"
      },
      "id": "ofea4ZeJeNp6",
      "execution_count": null,
      "outputs": [
        {
          "output_type": "execute_result",
          "data": {
            "text/plain": [
              "<Figure size 432x288 with 0 Axes>"
            ]
          },
          "metadata": {},
          "execution_count": 105
        },
        {
          "output_type": "display_data",
          "data": {
            "text/plain": [
              "<Figure size 432x288 with 1 Axes>"
            ],
            "image/png": "[encoded data removed]"
          },
          "metadata": {
            "needs_background": "light"
          }
        },
        {
          "output_type": "display_data",
          "data": {
            "text/plain": [
              "<Figure size 432x288 with 0 Axes>"
            ]
          },
          "metadata": {}
        }
      ]
    }
  ],
  "metadata": {
    "kernelspec": {
      "display_name": "Python 3 (ipykernel)",
      "language": "python",
      "name": "python3"
    },
    "language_info": {
      "codemirror_mode": {
        "name": "ipython",
        "version": 3
      },
      "file_extension": ".py",
      "mimetype": "text/x-python",
      "name": "python",
      "nbconvert_exporter": "python",
      "pygments_lexer": "ipython3",
      "version": "3.10.6"
    },
    "colab": {
      "provenance": [],
      "collapsed_sections": []
    },
    "accelerator": "GPU",
    "gpuClass": "standard",
    "widgets": {
      "application/vnd.jupyter.widget-state+json": {
        "b146c4ee96704175853a158c4d9e08a9": {
          "model_module": "@jupyter-widgets/controls",
          "model_name": "HBoxModel",
          "model_module_version": "1.5.0",
          "state": {
            "_dom_classes": [],
            "_model_module": "@jupyter-widgets/controls",
            "_model_module_version": "1.5.0",
            "_model_name": "HBoxModel",
            "_view_count": null,
            "_view_module": "@jupyter-widgets/controls",
            "_view_module_version": "1.5.0",
            "_view_name": "HBoxView",
            "box_style": "",
            "children": [
              "IPY_MODEL_3d1c3e168f9c4098bab0f4eed75a3518",
              "IPY_MODEL_649ff954f6c148429331670e898eac4d",
              "IPY_MODEL_3c77243074664656b13d889068b69ac8"
            ],
            "layout": "IPY_MODEL_af20634a86e04e3495f6a21d812ff0cb"
          }
        },
        "3d1c3e168f9c4098bab0f4eed75a3518": {
          "model_module": "@jupyter-widgets/controls",
          "model_name": "HTMLModel",
          "model_module_version": "1.5.0",
          "state": {
            "_dom_classes": [],
            "_model_module": "@jupyter-widgets/controls",
            "_model_module_version": "1.5.0",
            "_model_name": "HTMLModel",
            "_view_count": null,
            "_view_module": "@jupyter-widgets/controls",
            "_view_module_version": "1.5.0",
            "_view_name": "HTMLView",
            "description": "",
            "description_tooltip": null,
            "layout": "IPY_MODEL_40b0a949928e4af2a3704ef69e076f4f",
            "placeholder": "​",
            "style": "IPY_MODEL_9b98b9e2427e4ca5ae04f57750ce329d",
            "value": "100%"
          }
        },
        "649ff954f6c148429331670e898eac4d": {
          "model_module": "@jupyter-widgets/controls",
          "model_name": "FloatProgressModel",
          "model_module_version": "1.5.0",
          "state": {
            "_dom_classes": [],
            "_model_module": "@jupyter-widgets/controls",
            "_model_module_version": "1.5.0",
            "_model_name": "FloatProgressModel",
            "_view_count": null,
            "_view_module": "@jupyter-widgets/controls",
            "_view_module_version": "1.5.0",
            "_view_name": "ProgressView",
            "bar_style": "success",
            "description": "",
            "description_tooltip": null,
            "layout": "IPY_MODEL_1f443cf39f974b02bdb61cc7b2d39981",
            "max": 3,
            "min": 0,
            "orientation": "horizontal",
            "style": "IPY_MODEL_1180be1374824b8eba7983abe78669ee",
            "value": 3
          }
        },
        "3c77243074664656b13d889068b69ac8": {
          "model_module": "@jupyter-widgets/controls",
          "model_name": "HTMLModel",
          "model_module_version": "1.5.0",
          "state": {
            "_dom_classes": [],
            "_model_module": "@jupyter-widgets/controls",
            "_model_module_version": "1.5.0",
            "_model_name": "HTMLModel",
            "_view_count": null,
            "_view_module": "@jupyter-widgets/controls",
            "_view_module_version": "1.5.0",
            "_view_name": "HTMLView",
            "description": "",
            "description_tooltip": null,
            "layout": "IPY_MODEL_47d4d6b2bca84a39b51bcc187eec68cf",
            "placeholder": "​",
            "style": "IPY_MODEL_1375feed5e60489e81261706a62441f2",
            "value": " 3/3 [00:00&lt;00:00, 50.08it/s]"
          }
        },
        "af20634a86e04e3495f6a21d812ff0cb": {
          "model_module": "@jupyter-widgets/base",
          "model_name": "LayoutModel",
          "model_module_version": "1.2.0",
          "state": {
            "_model_module": "@jupyter-widgets/base",
            "_model_module_version": "1.2.0",
            "_model_name": "LayoutModel",
            "_view_count": null,
            "_view_module": "@jupyter-widgets/base",
            "_view_module_version": "1.2.0",
            "_view_name": "LayoutView",
            "align_content": null,
            "align_items": null,
            "align_self": null,
            "border": null,
            "bottom": null,
            "display": null,
            "flex": null,
            "flex_flow": null,
            "grid_area": null,
            "grid_auto_columns": null,
            "grid_auto_flow": null,
            "grid_auto_rows": null,
            "grid_column": null,
            "grid_gap": null,
            "grid_row": null,
            "grid_template_areas": null,
            "grid_template_columns": null,
            "grid_template_rows": null,
            "height": null,
            "justify_content": null,
            "justify_items": null,
            "left": null,
            "margin": null,
            "max_height": null,
            "max_width": null,
            "min_height": null,
            "min_width": null,
            "object_fit": null,
            "object_position": null,
            "order": null,
            "overflow": null,
            "overflow_x": null,
            "overflow_y": null,
            "padding": null,
            "right": null,
            "top": null,
            "visibility": null,
            "width": null
          }
        },
        "40b0a949928e4af2a3704ef69e076f4f": {
          "model_module": "@jupyter-widgets/base",
          "model_name": "LayoutModel",
          "model_module_version": "1.2.0",
          "state": {
            "_model_module": "@jupyter-widgets/base",
            "_model_module_version": "1.2.0",
            "_model_name": "LayoutModel",
            "_view_count": null,
            "_view_module": "@jupyter-widgets/base",
            "_view_module_version": "1.2.0",
            "_view_name": "LayoutView",
            "align_content": null,
            "align_items": null,
            "align_self": null,
            "border": null,
            "bottom": null,
            "display": null,
            "flex": null,
            "flex_flow": null,
            "grid_area": null,
            "grid_auto_columns": null,
            "grid_auto_flow": null,
            "grid_auto_rows": null,
            "grid_column": null,
            "grid_gap": null,
            "grid_row": null,
            "grid_template_areas": null,
            "grid_template_columns": null,
            "grid_template_rows": null,
            "height": null,
            "justify_content": null,
            "justify_items": null,
            "left": null,
            "margin": null,
            "max_height": null,
            "max_width": null,
            "min_height": null,
            "min_width": null,
            "object_fit": null,
            "object_position": null,
            "order": null,
            "overflow": null,
            "overflow_x": null,
            "overflow_y": null,
            "padding": null,
            "right": null,
            "top": null,
            "visibility": null,
            "width": null
          }
        },
        "9b98b9e2427e4ca5ae04f57750ce329d": {
          "model_module": "@jupyter-widgets/controls",
          "model_name": "DescriptionStyleModel",
          "model_module_version": "1.5.0",
          "state": {
            "_model_module": "@jupyter-widgets/controls",
            "_model_module_version": "1.5.0",
            "_model_name": "DescriptionStyleModel",
            "_view_count": null,
            "_view_module": "@jupyter-widgets/base",
            "_view_module_version": "1.2.0",
            "_view_name": "StyleView",
            "description_width": ""
          }
        },
        "1f443cf39f974b02bdb61cc7b2d39981": {
          "model_module": "@jupyter-widgets/base",
          "model_name": "LayoutModel",
          "model_module_version": "1.2.0",
          "state": {
            "_model_module": "@jupyter-widgets/base",
            "_model_module_version": "1.2.0",
            "_model_name": "LayoutModel",
            "_view_count": null,
            "_view_module": "@jupyter-widgets/base",
            "_view_module_version": "1.2.0",
            "_view_name": "LayoutView",
            "align_content": null,
            "align_items": null,
            "align_self": null,
            "border": null,
            "bottom": null,
            "display": null,
            "flex": null,
            "flex_flow": null,
            "grid_area": null,
            "grid_auto_columns": null,
            "grid_auto_flow": null,
            "grid_auto_rows": null,
            "grid_column": null,
            "grid_gap": null,
            "grid_row": null,
            "grid_template_areas": null,
            "grid_template_columns": null,
            "grid_template_rows": null,
            "height": null,
            "justify_content": null,
            "justify_items": null,
            "left": null,
            "margin": null,
            "max_height": null,
            "max_width": null,
            "min_height": null,
            "min_width": null,
            "object_fit": null,
            "object_position": null,
            "order": null,
            "overflow": null,
            "overflow_x": null,
            "overflow_y": null,
            "padding": null,
            "right": null,
            "top": null,
            "visibility": null,
            "width": null
          }
        },
        "1180be1374824b8eba7983abe78669ee": {
          "model_module": "@jupyter-widgets/controls",
          "model_name": "ProgressStyleModel",
          "model_module_version": "1.5.0",
          "state": {
            "_model_module": "@jupyter-widgets/controls",
            "_model_module_version": "1.5.0",
            "_model_name": "ProgressStyleModel",
            "_view_count": null,
            "_view_module": "@jupyter-widgets/base",
            "_view_module_version": "1.2.0",
            "_view_name": "StyleView",
            "bar_color": null,
            "description_width": ""
          }
        },
        "47d4d6b2bca84a39b51bcc187eec68cf": {
          "model_module": "@jupyter-widgets/base",
          "model_name": "LayoutModel",
          "model_module_version": "1.2.0",
          "state": {
            "_model_module": "@jupyter-widgets/base",
            "_model_module_version": "1.2.0",
            "_model_name": "LayoutModel",
            "_view_count": null,
            "_view_module": "@jupyter-widgets/base",
            "_view_module_version": "1.2.0",
            "_view_name": "LayoutView",
            "align_content": null,
            "align_items": null,
            "align_self": null,
            "border": null,
            "bottom": null,
            "display": null,
            "flex": null,
            "flex_flow": null,
            "grid_area": null,
            "grid_auto_columns": null,
            "grid_auto_flow": null,
            "grid_auto_rows": null,
            "grid_column": null,
            "grid_gap": null,
            "grid_row": null,
            "grid_template_areas": null,
            "grid_template_columns": null,
            "grid_template_rows": null,
            "height": null,
            "justify_content": null,
            "justify_items": null,
            "left": null,
            "margin": null,
            "max_height": null,
            "max_width": null,
            "min_height": null,
            "min_width": null,
            "object_fit": null,
            "object_position": null,
            "order": null,
            "overflow": null,
            "overflow_x": null,
            "overflow_y": null,
            "padding": null,
            "right": null,
            "top": null,
            "visibility": null,
            "width": null
          }
        },
        "1375feed5e60489e81261706a62441f2": {
          "model_module": "@jupyter-widgets/controls",
          "model_name": "DescriptionStyleModel",
          "model_module_version": "1.5.0",
          "state": {
            "_model_module": "@jupyter-widgets/controls",
            "_model_module_version": "1.5.0",
            "_model_name": "DescriptionStyleModel",
            "_view_count": null,
            "_view_module": "@jupyter-widgets/base",
            "_view_module_version": "1.2.0",
            "_view_name": "StyleView",
            "description_width": ""
          }
        }
      }
    }
  },
  "nbformat": 4,
  "nbformat_minor": 5
}